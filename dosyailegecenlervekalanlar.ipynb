{
 "cells": [
  {
   "cell_type": "code",
   "execution_count": 4,
   "metadata": {},
   "outputs": [],
   "source": [
    "with open(\"gecti_kaldi.txt\",\"r\",encoding=\"utf-8\") as file:\n",
    "    gecenler=list()\n",
    "    kalanlar=list()\n",
    "    for satır in file:\n",
    "        satır=satır[:-1]\n",
    "        satır_elemanları=satır.split(\"--\")\n",
    "        if satır_elemanları[1]==\"geçti\":\n",
    "            gecenler.append(satır+\"\\n\")\n",
    "        else:\n",
    "            kalanlar.append(satır+\"\\n\")\n",
    "with open(\"gecenler.txt\",\"w\",encoding=\"utf-8\") as file1:\n",
    "    for i in gecenler:\n",
    "        file1.write(i)\n",
    "with open(\"kalanlar.txt\",\"w\",encoding=\"utf-8\") as file2:\n",
    "    for i in kalanlar:\n",
    "        file2.write(i)\n",
    "\n",
    "            \n",
    "        \n",
    "        "
   ]
  },
  {
   "cell_type": "code",
   "execution_count": null,
   "metadata": {},
   "outputs": [],
   "source": []
  }
 ],
 "metadata": {
  "kernelspec": {
   "display_name": "Python 3",
   "language": "python",
   "name": "python3"
  },
  "language_info": {
   "codemirror_mode": {
    "name": "ipython",
    "version": 3
   },
   "file_extension": ".py",
   "mimetype": "text/x-python",
   "name": "python",
   "nbconvert_exporter": "python",
   "pygments_lexer": "ipython3",
   "version": "3.8.5"
  }
 },
 "nbformat": 4,
 "nbformat_minor": 4
}
