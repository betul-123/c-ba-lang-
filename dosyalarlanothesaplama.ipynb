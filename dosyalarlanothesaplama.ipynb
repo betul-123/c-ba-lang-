{
 "cells": [
  {
   "cell_type": "code",
   "execution_count": 19,
   "metadata": {},
   "outputs": [],
   "source": [
    "def not_hesaplama(satır):\n",
    "    satır=satır[:-1]\n",
    "    liste=satır.split(\",\")\n",
    "    isim=liste[0]\n",
    "    not1=int(liste[1])\n",
    "    not2=int(liste[2])\n",
    "    not3=int(liste[3])\n",
    "    son=not1*0.3+not2*0.3+not3*0.4\n",
    "    harf=\"\"\n",
    "    if son>=40:\n",
    "        harf=\"geçti\"\n",
    "    else:\n",
    "        harf=\"kaldı\"\n",
    "        \n",
    "    return isim+\"--\"+harf+\"\\n\"\n",
    "with open(\"dosya.txt\",\"r\",encoding=\"utf-8\") as file:\n",
    "    eklenecekler_listesi=[]\n",
    "    \n",
    "    for i in file:\n",
    "        \n",
    "        eklenecekler_listesi.append(not_hesaplama(i))\n",
    "        \n",
    "        d=eklenecekler_listesi[0]\n",
    "        \n",
    "        if d==\"geçti\":\n",
    "           with open(\"gecenler.txt\",\"w\",encoding=\"utf-8\") as file2:\n",
    "                for i in eklenecekler_listesi:\n",
    "                    file2.write(i)\n",
    "        \n",
    "        \n",
    "        "
   ]
  },
  {
   "cell_type": "code",
   "execution_count": null,
   "metadata": {},
   "outputs": [],
   "source": []
  }
 ],
 "metadata": {
  "kernelspec": {
   "display_name": "Python 3",
   "language": "python",
   "name": "python3"
  },
  "language_info": {
   "codemirror_mode": {
    "name": "ipython",
    "version": 3
   },
   "file_extension": ".py",
   "mimetype": "text/x-python",
   "name": "python",
   "nbconvert_exporter": "python",
   "pygments_lexer": "ipython3",
   "version": "3.8.5"
  }
 },
 "nbformat": 4,
 "nbformat_minor": 4
}
